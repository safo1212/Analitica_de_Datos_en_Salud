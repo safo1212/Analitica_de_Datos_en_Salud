{
 "nbformat": 4,
 "nbformat_minor": 0,
 "metadata": {
  "colab": {
   "provenance": []
  },
  "kernelspec": {
   "name": "python3",
   "display_name": "Python 3"
  },
  "language_info": {
   "name": "python"
  }
 },
 "cells": [
  {
   "cell_type": "markdown",
   "source": [
    "#Entregable 2:\n",
    "Detectar autom\u00e1ticamente si las entidades cl\u00ednicas identificadas en un conjunto de oraciones est\u00e1n afirmadas, negadas o en estado de incertidumbre, mediante un modelo de lenguaje previamente entrenado en detecci\u00f3n de negaci\u00f3n, afirmaci\u00f3n e incertidumbre en textos cl\u00ednicos.\n",
    "\n",
    "##Sirve para:\n",
    "\n",
    "* Clasificar el estado sem\u00e1ntico de cada entidad (por ejemplo, \"no fiebre\" \u2192 negaci\u00f3n).\n",
    "\n",
    "* Permite diferenciar entre hechos cl\u00ednicos confirmados, descartados o dudosos.\n",
    "\n",
    "##Se puede utilizar en:\n",
    "\n",
    "* Miner\u00eda de texto en salud.\n",
    "\n",
    "* An\u00e1lisis automatizado de historias cl\u00ednicas.\n",
    "\n",
    "* Generaci\u00f3n de etiquetas sem\u00e1nticas cl\u00ednicas que apoyan el diagn\u00f3stico, la vigilancia de patolog\u00edas y el an\u00e1lisis de cohortes.\n",
    "\n"
   ],
   "metadata": {
    "id": "aOxQ1-8yiTwU"
   }
  },
  {
   "cell_type": "code",
   "source": [
    "#IMPORTAR LIBRERIAS\n",
    "import pandas as pd\n",
    "import torch\n",
    "from transformers import AutoTokenizer, AutoModelForTokenClassification, AutoConfig, pipeline"
   ],
   "metadata": {
    "id": "7w99Q2AViSLD"
   },
   "execution_count": null,
   "outputs": []
  },
  {
   "cell_type": "code",
   "source": [
    "#DEFINICI\u00d3N DE ARGUMENTOS / RUTAS A REPOSITORIOS\n",
    "#Configuraci\u00f3n del modelo\n",
    "MODEL_NAME = \"JuanSolarte99/bert-base-uncased-finetuned-ner-negation_detection_NUBES\"\n",
    "\n",
    "#Configuraci\u00f3n del dispositivo\n",
    "DEVICE = 0 if torch.cuda.is_available() else -1"
   ],
   "metadata": {
    "id": "6xEchk3QgEoc"
   },
   "execution_count": null,
   "outputs": []
  },
  {
   "cell_type": "code",
   "source": [
    "#CREACI\u00d3N PIPELINE PARA MODELO NER\n",
    "tokenizer = AutoTokenizer.from_pretrained(MODEL_NAME)\n",
    "model = AutoModelForTokenClassification.from_pretrained(MODEL_NAME)\n",
    "negation_pipeline = pipeline(\"ner\", model=model, tokenizer=tokenizer, aggregation_strategy=\"simple\")"
   ],
   "metadata": {
    "colab": {
     "base_uri": "https://localhost:8080/"
    },
    "id": "A4UPEbYIgjzh",
    "outputId": "93795108-0ecd-439e-9bfa-f9021ab4ceb3"
   },
   "execution_count": null,
   "outputs": [
    {
     "output_type": "stream",
     "name": "stderr",
     "text": [
      "Device set to use cpu\n"
     ]
    }
   ]
  },
  {
   "cell_type": "code",
   "source": [
    "#Lista de oraciones de validaci\u00f3n\n",
    "\n",
    "oraciones = [\n",
    "    \"Paciente con diagn\u00f3stico confirmado de adenocarcinoma pulmonar con met\u00e1stasis hep\u00e1ticas activas.\",\n",
    "    \"La paciente niega fiebre, p\u00e9rdida de peso y dolor tor\u00e1cico.\",\n",
    "    \"No se evidencian signos de infecci\u00f3n respiratoria aguda.\",\n",
    "    \"Se sospecha recurrencia tumoral en la regi\u00f3n axilar izquierda.\",\n",
    "    \"Presenta tos persistente y disnea al esfuerzo desde hace 3 semanas.\",\n",
    "    \"Paciente no bebedora y no fumadora desde hace 10 a\u00f1os.\",\n",
    "    \"Lesi\u00f3n pulmonar de caracter\u00edsticas at\u00edpicas, posible neoplasia maligna.\",\n",
    "    \"Recibi\u00f3 quimioterapia con doxorrubicina y ciclofosfamida durante 6 ciclos.\",\n",
    "    \"Sin antecedentes familiares de c\u00e1ncer de mama o de ovario.\"\n",
    "    \"Quiz\u00e1s haya compromiso pulmonar leve.\",\n",
    "]"
   ],
   "metadata": {
    "id": "AJ6uB0cFsfoE"
   },
   "execution_count": null,
   "outputs": []
  },
  {
   "cell_type": "code",
   "source": [
    "#Aplicar el modelo a cada oraci\u00f3n\n",
    "resultados = []\n",
    "for oracion in oraciones:\n",
    "    spans = negation_pipeline(oracion)\n",
    "    for span in spans:\n",
    "        resultados.append({\n",
    "            \"sentence\": oracion,\n",
    "            \"word\": span[\"word\"],\n",
    "            \"label\": span[\"entity_group\"]\n",
    "        })"
   ],
   "metadata": {
    "id": "IRd7EAUasmuH"
   },
   "execution_count": null,
   "outputs": []
  },
  {
   "cell_type": "code",
   "source": [
    "#Convertir a DataFrame\n",
    "df_resultados = pd.DataFrame(resultados)"
   ],
   "metadata": {
    "id": "ImhZ0oN9sqMR"
   },
   "execution_count": null,
   "outputs": []
  },
  {
   "cell_type": "code",
   "source": [
    "#LISTA DE ETIQUETAS \u00daNICAS DETECTADAS POR EL MODELO\n",
    "etiquetas_detectadas = df_resultados[\"label\"].dropna().unique().tolist()\n",
    "etiquetas_detectadas.sort()"
   ],
   "metadata": {
    "id": "6v1ZksOv0DhF"
   },
   "execution_count": null,
   "outputs": []
  },
  {
   "cell_type": "code",
   "source": [
    "#IMPRIMIR LISTA DE ETIQUETAS \u00daNICAS DETECTADAS POR EL MODELO\n",
    "print(\"\\nEtiquetas detectadas por el modelo:\")\n",
    "for label in etiquetas_detectadas:\n",
    "    print(f\"- {label}\")"
   ],
   "metadata": {
    "colab": {
     "base_uri": "https://localhost:8080/"
    },
    "id": "TxB_ThKJ0VhV",
    "outputId": "5424d08f-3551-424d-83dc-ba0a37e235a0"
   },
   "execution_count": null,
   "outputs": [
    {
     "output_type": "stream",
     "name": "stdout",
     "text": [
      "\n",
      "Etiquetas detectadas por el modelo:\n",
      "- LABEL_0\n",
      "- LABEL_1\n",
      "- LABEL_2\n",
      "- LABEL_3\n",
      "- LABEL_5\n",
      "- LABEL_6\n",
      "- LABEL_7\n",
      "- LABEL_8\n"
     ]
    }
   ]
  },
  {
   "cell_type": "code",
   "source": [
    "print(\"Resultados del modelo por oraci\u00f3n y palabra:\")\n",
    "print(df_resultados)"
   ],
   "metadata": {
    "colab": {
     "base_uri": "https://localhost:8080/"
    },
    "id": "r3FYj9tm3fUN",
    "outputId": "2476e444-df96-41a3-8bb8-47751adb8c19"
   },
   "execution_count": null,
   "outputs": [
    {
     "output_type": "stream",
     "name": "stdout",
     "text": [
      "Resultados del modelo por oraci\u00f3n y palabra:\n",
      "                                             sentence  \\\n",
      "0   Paciente con diagn\u00f3stico confirmado de adenoca...   \n",
      "1   La paciente niega fiebre, p\u00e9rdida de peso y do...   \n",
      "2   La paciente niega fiebre, p\u00e9rdida de peso y do...   \n",
      "3   La paciente niega fiebre, p\u00e9rdida de peso y do...   \n",
      "4   La paciente niega fiebre, p\u00e9rdida de peso y do...   \n",
      "5   La paciente niega fiebre, p\u00e9rdida de peso y do...   \n",
      "6   No se evidencian signos de infecci\u00f3n respirato...   \n",
      "7   No se evidencian signos de infecci\u00f3n respirato...   \n",
      "8   No se evidencian signos de infecci\u00f3n respirato...   \n",
      "9   No se evidencian signos de infecci\u00f3n respirato...   \n",
      "10  Se sospecha recurrencia tumoral en la regi\u00f3n a...   \n",
      "11  Se sospecha recurrencia tumoral en la regi\u00f3n a...   \n",
      "12  Se sospecha recurrencia tumoral en la regi\u00f3n a...   \n",
      "13  Se sospecha recurrencia tumoral en la regi\u00f3n a...   \n",
      "14  Se sospecha recurrencia tumoral en la regi\u00f3n a...   \n",
      "15  Se sospecha recurrencia tumoral en la regi\u00f3n a...   \n",
      "16  Se sospecha recurrencia tumoral en la regi\u00f3n a...   \n",
      "17  Presenta tos persistente y disnea al esfuerzo ...   \n",
      "18  Paciente no bebedora y no fumadora desde hace ...   \n",
      "19  Paciente no bebedora y no fumadora desde hace ...   \n",
      "20  Paciente no bebedora y no fumadora desde hace ...   \n",
      "21  Paciente no bebedora y no fumadora desde hace ...   \n",
      "22  Paciente no bebedora y no fumadora desde hace ...   \n",
      "23  Paciente no bebedora y no fumadora desde hace ...   \n",
      "24  Paciente no bebedora y no fumadora desde hace ...   \n",
      "25  Paciente no bebedora y no fumadora desde hace ...   \n",
      "26  Paciente no bebedora y no fumadora desde hace ...   \n",
      "27  Lesi\u00f3n pulmonar de caracter\u00edsticas at\u00edpicas, p...   \n",
      "28  Lesi\u00f3n pulmonar de caracter\u00edsticas at\u00edpicas, p...   \n",
      "29  Lesi\u00f3n pulmonar de caracter\u00edsticas at\u00edpicas, p...   \n",
      "30  Lesi\u00f3n pulmonar de caracter\u00edsticas at\u00edpicas, p...   \n",
      "31  Lesi\u00f3n pulmonar de caracter\u00edsticas at\u00edpicas, p...   \n",
      "32  Recibi\u00f3 quimioterapia con doxorrubicina y cicl...   \n",
      "33  Sin antecedentes familiares de c\u00e1ncer de mama ...   \n",
      "34  Sin antecedentes familiares de c\u00e1ncer de mama ...   \n",
      "35  Sin antecedentes familiares de c\u00e1ncer de mama ...   \n",
      "36  Sin antecedentes familiares de c\u00e1ncer de mama ...   \n",
      "37  Sin antecedentes familiares de c\u00e1ncer de mama ...   \n",
      "38  Sin antecedentes familiares de c\u00e1ncer de mama ...   \n",
      "\n",
      "                                                 word    label  \n",
      "0   paciente con diagnostico confirmado de adenoca...  LABEL_8  \n",
      "1                                         la paciente  LABEL_8  \n",
      "2                                                  ni  LABEL_0  \n",
      "3                                          ##ega fieb  LABEL_1  \n",
      "4                                                ##re  LABEL_5  \n",
      "5                 , perdida de peso y dolor toracico.  LABEL_8  \n",
      "6                                                  no  LABEL_0  \n",
      "7                                                  se  LABEL_1  \n",
      "8   evidencian signos de infeccion respiratoria aguda  LABEL_5  \n",
      "9                                                   .  LABEL_8  \n",
      "10                                                 se  LABEL_2  \n",
      "11                                                 so  LABEL_6  \n",
      "12                                               ##sp  LABEL_2  \n",
      "13                                             ##echa  LABEL_6  \n",
      "14                                                rec  LABEL_3  \n",
      "15   ##urrencia tumoral en la region axilar izquierda  LABEL_7  \n",
      "16                                                  .  LABEL_8  \n",
      "17  presenta tos persistente y disnea al esfuerzo ...  LABEL_8  \n",
      "18                                           paciente  LABEL_8  \n",
      "19                                                 no  LABEL_0  \n",
      "20                                             bebedo  LABEL_1  \n",
      "21                                               ##ra  LABEL_5  \n",
      "22                                                  y  LABEL_8  \n",
      "23                                                 no  LABEL_0  \n",
      "24                                              fumad  LABEL_1  \n",
      "25                           ##ora desde hace 10 anos  LABEL_5  \n",
      "26                                                  .  LABEL_8  \n",
      "27       lesion pulmonar de caracteristicas atipicas,  LABEL_8  \n",
      "28                                            posible  LABEL_2  \n",
      "29                                                neo  LABEL_3  \n",
      "30                                   ##plasia maligna  LABEL_7  \n",
      "31                                                  .  LABEL_8  \n",
      "32  recibio quimioterapia con doxorrubicina y cicl...  LABEL_8  \n",
      "33                                                sin  LABEL_0  \n",
      "34                                             antece  LABEL_1  \n",
      "35  ##dentes familiares de cancer de mama o de ovario  LABEL_5  \n",
      "36                                      . quizas haya  LABEL_8  \n",
      "37                           compromiso pulmonar leve  LABEL_7  \n",
      "38                                                  .  LABEL_8  \n"
     ]
    }
   ]
  },
  {
   "cell_type": "code",
   "source": [
    "#Interpretaci\u00f3n de las etiquetas basada en las oraciones de validaci\u00f3n\n",
    "etiqueta_a_estado = {\n",
    "    \"LABEL_0\": \"Negaci\u00f3n\",\n",
    "    \"LABEL_1\": \"Negaci\u00f3n\",\n",
    "    \"LABEL_5\": \"Negaci\u00f3n\",\n",
    "    \"LABEL_2\": \"Incertidumbre\",\n",
    "    \"LABEL_6\": \"Incertidumbre\",\n",
    "    \"LABEL_3\": \"Incertidumbre\",\n",
    "    \"LABEL_7\": \"Afirmaci\u00f3n\",\n",
    "    \"LABEL_8\": \"Afirmaci\u00f3n\"\n",
    "}"
   ],
   "metadata": {
    "id": "Zuu-6K5d4Ygw"
   },
   "execution_count": null,
   "outputs": []
  },
  {
   "cell_type": "code",
   "source": [
    "#Detecci\u00f3n de estado por oraci\u00f3n (prioridad: Negada > Incierta > Afirmada)\n",
    "def clasificar_estado(grupo_etiquetas):\n",
    "    if any(e in grupo_etiquetas for e in [\"LABEL_0\", \"LABEL_1\"]):\n",
    "        return \"Negaci\u00f3n\"\n",
    "    elif any(e in grupo_etiquetas for e in [\"LABEL_2\", \"LABEL_3\", \"LABEL_6\"]):\n",
    "        return \"Incertidumbre\"\n",
    "    else:\n",
    "        return \"Afirmaci\u00f3n\"\n",
    "\n",
    "#Asignar estado a cada oraci\u00f3n\n",
    "estados = []\n",
    "\n",
    "for oracion in df_resultados[\"sentence\"].unique():\n",
    "    etiquetas = df_resultados[df_resultados[\"sentence\"] == oracion][\"label\"].unique().tolist()\n",
    "    estado = clasificar_estado(etiquetas)\n",
    "    estados.append({\"sentence\": oracion, \"estado_contextual\": estado})\n",
    "\n",
    "#Mostrar resultados finales\n",
    "df_estados = pd.DataFrame(estados)\n",
    "print(\"\\n\\n Clasificaci\u00f3n de contexto por oraci\u00f3n:\")\n",
    "print(df_estados)"
   ],
   "metadata": {
    "colab": {
     "base_uri": "https://localhost:8080/"
    },
    "id": "n_fHCLM22_2G",
    "outputId": "45ea2e25-de47-4cf3-b1f1-3b98b15fbcfe"
   },
   "execution_count": null,
   "outputs": [
    {
     "output_type": "stream",
     "name": "stdout",
     "text": [
      "\n",
      "\n",
      " Clasificaci\u00f3n de contexto por oraci\u00f3n:\n",
      "                                            sentence estado_contextual\n",
      "0  Paciente con diagn\u00f3stico confirmado de adenoca...        Afirmaci\u00f3n\n",
      "1  La paciente niega fiebre, p\u00e9rdida de peso y do...          Negaci\u00f3n\n",
      "2  No se evidencian signos de infecci\u00f3n respirato...          Negaci\u00f3n\n",
      "3  Se sospecha recurrencia tumoral en la regi\u00f3n a...     Incertidumbre\n",
      "4  Presenta tos persistente y disnea al esfuerzo ...        Afirmaci\u00f3n\n",
      "5  Paciente no bebedora y no fumadora desde hace ...          Negaci\u00f3n\n",
      "6  Lesi\u00f3n pulmonar de caracter\u00edsticas at\u00edpicas, p...     Incertidumbre\n",
      "7  Recibi\u00f3 quimioterapia con doxorrubicina y cicl...        Afirmaci\u00f3n\n",
      "8  Sin antecedentes familiares de c\u00e1ncer de mama ...          Negaci\u00f3n\n"
     ]
    }
   ]
  }
 ]
}