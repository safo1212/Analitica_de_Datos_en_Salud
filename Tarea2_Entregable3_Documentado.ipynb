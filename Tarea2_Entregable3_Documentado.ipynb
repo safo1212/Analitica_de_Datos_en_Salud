{
 "nbformat": 4,
 "nbformat_minor": 0,
 "metadata": {
  "colab": {
   "provenance": []
  },
  "kernelspec": {
   "name": "python3",
   "display_name": "Python 3"
  },
  "language_info": {
   "name": "python"
  }
 },
 "cells": [
  {
   "cell_type": "markdown",
   "source": [
    "**Anal\u00edtica de datos en salud**\n",
    "\n",
    "---\n",
    "\n",
    "***Tarea No. 2: Aplicaci\u00f3n de Extracci\u00f3n de Informaci\u00f3n***\n",
    "\n",
    "Presentado por:\n",
    "\n",
    "* 2400452 - Jennifer Benavides Castillo\n",
    "* 2400479 - Cristhian David Cruz Mill\u00e1n\n",
    "* 2400794 - Sergio Alejandro Fierro Ospitia\n",
    "* 2400478 - Edwin Andr\u00e9s Lasso Rosero"
   ],
   "metadata": {
    "id": "k79-M_sS_ZMw"
   }
  },
  {
   "cell_type": "markdown",
   "source": [
    "#Entregable 3:\n",
    "Integrar los modelos de extracci\u00f3n de entidades (NER) y clasificaci\u00f3n de contexto (negaci\u00f3n / afirmaci\u00f3n / incertidumbre) en un \u00fanico flujo de procesamiento, que lea historias cl\u00ednicas y produzca una base de datos estructurada (CSV).\n",
    "\n",
    "##Sirve para:\n",
    "\n",
    "* Consolidar la informaci\u00f3n cl\u00ednica en un formato analizable, con cuatro columnas clave:\n",
    "\n",
    " * patient_id: Identificador del paciente.\n",
    "\n",
    " * sentence: Oraci\u00f3n donde se encontr\u00f3 la entidad.\n",
    "\n",
    " * NER: Entidad m\u00e9dica extra\u00edda.\n",
    "\n",
    " * Estado: Clasificaci\u00f3n del contexto (Afirmada, Negada, Sospechosa).\n",
    "\n",
    "###Esta base estructurada es \u00fatil para:\n",
    "\n",
    "* Estudios m\u00e9dicos retrospectivos.\n",
    "\n",
    "* Vigilancia de enfermedades.\n",
    "\n",
    "* Entrenamiento de otros modelos cl\u00ednicos.\n",
    "\n",
    "* Tareas cl\u00ednicas asistidas por IA."
   ],
   "metadata": {
    "id": "vAJfZG3QjcQ-"
   }
  },
  {
   "cell_type": "code",
   "execution_count": null,
   "metadata": {
    "id": "_2IcYj9B-8JX"
   },
   "outputs": [],
   "source": [
    "#IMPORTAR LIBRERIAS\n",
    "from transformers import AutoTokenizer, AutoModelForTokenClassification, pipeline, AutoConfig\n",
    "from google.colab import files\n",
    "import pandas as pd\n",
    "import chardet"
   ]
  },
  {
   "cell_type": "code",
   "source": [
    "#CONEXI\u00d3N A DRIVE\n",
    "from google.colab import drive\n",
    "drive.mount('/content/drive')"
   ],
   "metadata": {
    "colab": {
     "base_uri": "https://localhost:8080/"
    },
    "id": "mNmnO751LXqh",
    "outputId": "a500a5bb-8558-4007-d3ff-ff007bbb2300"
   },
   "execution_count": null,
   "outputs": [
    {
     "output_type": "stream",
     "name": "stdout",
     "text": [
      "Drive already mounted at /content/drive; to attempt to forcibly remount, call drive.mount(\"/content/drive\", force_remount=True).\n"
     ]
    }
   ]
  },
  {
   "cell_type": "code",
   "source": [
    "#Carga del archivo desde la ruta correcta resultado del entregable 1\n",
    "INPUT_FILE = \"/content/drive/MyDrive/entidades_extraidas.csv\"\n",
    "\n",
    "#Carga del modelo\n",
    "MODEL_NEGATION = \"JuanSolarte99/bert-base-uncased-finetuned-ner-negation_detection_NUBES\"\n",
    "\n",
    "DEVICE = 0  # o -1 si no hay GPU"
   ],
   "metadata": {
    "id": "yruaJ9HvKpkr"
   },
   "execution_count": null,
   "outputs": []
  },
  {
   "cell_type": "code",
   "source": [
    "#Cargar modelo de negaci\u00f3n\n",
    "print(\"Cargando modelo de negaci\u00f3n e incertidumbre...\")\n",
    "config = AutoConfig.from_pretrained(MODEL_NEGATION)\n",
    "tokenizer = AutoTokenizer.from_pretrained(MODEL_NEGATION)\n",
    "model = AutoModelForTokenClassification.from_pretrained(MODEL_NEGATION)\n",
    "\n",
    "negation_pipeline = pipeline(\n",
    "    \"ner\",\n",
    "    model=model,\n",
    "    tokenizer=tokenizer,\n",
    "    aggregation_strategy=\"simple\",\n",
    "    device=DEVICE\n",
    ")"
   ],
   "metadata": {
    "colab": {
     "base_uri": "https://localhost:8080/"
    },
    "id": "2S17KRCRihZo",
    "outputId": "9090bd74-e000-481f-b010-6181a6ae5a9a"
   },
   "execution_count": null,
   "outputs": [
    {
     "output_type": "stream",
     "name": "stdout",
     "text": [
      "Cargando modelo de negaci\u00f3n e incertidumbre...\n"
     ]
    },
    {
     "output_type": "stream",
     "name": "stderr",
     "text": [
      "Device set to use cpu\n"
     ]
    }
   ]
  },
  {
   "cell_type": "code",
   "source": [
    "#Lectura de datos de entidades extra\u00eddas\n",
    "\n",
    "print(f\"Cargando archivo de entidades: {INPUT_FILE}\")\n",
    "df_entidades = pd.read_csv(INPUT_FILE, sep=';', encoding='latin-1', engine='python')\n"
   ],
   "metadata": {
    "id": "MaKTVDXnjR2C",
    "outputId": "b441a5ec-9d7c-4c07-9376-5c24c69df5f4",
    "colab": {
     "base_uri": "https://localhost:8080/"
    }
   },
   "execution_count": null,
   "outputs": [
    {
     "output_type": "stream",
     "name": "stdout",
     "text": [
      "Cargando archivo de entidades: /content/drive/MyDrive/entidades_extraidas.csv\n"
     ]
    }
   ]
  },
  {
   "cell_type": "code",
   "source": [
    "#Filtrar valores vacios\n",
    "df_entidades = df_entidades[df_entidades[\"sentence\"].notna() & (df_entidades[\"sentence\"].str.strip() != \"\")]"
   ],
   "metadata": {
    "id": "QCB4IJOwipk_"
   },
   "execution_count": null,
   "outputs": []
  },
  {
   "cell_type": "code",
   "source": [
    "#FUNCI\u00d3N: Clasificaci\u00f3n del estado contextual\n",
    "\n",
    "def clasificar_estado(etiquetas_detectadas):\n",
    "    if any(et in etiquetas_detectadas for et in [\"LABEL_0\", \"LABEL_1\"]):\n",
    "        return \"Negada\"\n",
    "    elif any(et in etiquetas_detectadas for et in [\"LABEL_2\", \"LABEL_3\", \"LABEL_5\", \"LABEL_6\"]):\n",
    "        return \"Sospechosa\"\n",
    "    else:\n",
    "        return \"Afirmada\""
   ],
   "metadata": {
    "id": "RKqz8br5LOgq"
   },
   "execution_count": null,
   "outputs": []
  },
  {
   "cell_type": "code",
   "source": [
    "#Define el modelo de contexto (negaci\u00f3n/incertidumbre)\n",
    "modelo_contexto = \"JuanSolarte99/bert-base-uncased-finetuned-ner-negation_detection_NUBES\"\n",
    "\n",
    "#Cargar el modelo y pipeline\n",
    "tokenizer_contexto = AutoTokenizer.from_pretrained(modelo_contexto)\n",
    "modelo_contexto = AutoModelForTokenClassification.from_pretrained(modelo_contexto)\n",
    "\n",
    "pipe_contexto = pipeline(\n",
    "    \"ner\",\n",
    "    model=\"JuanSolarte99/bert-base-uncased-finetuned-ner-negation_detection_NUBES\",\n",
    "    tokenizer=\"JuanSolarte99/bert-base-uncased-finetuned-ner-negation_detection_NUBES\",\n",
    "    aggregation_strategy=\"simple\",\n",
    "    device=0\n",
    ")"
   ],
   "metadata": {
    "colab": {
     "base_uri": "https://localhost:8080/"
    },
    "id": "KRWi0AEIbi7R",
    "outputId": "90c4bc25-f532-4148-f30e-9d70ee32dbdf"
   },
   "execution_count": null,
   "outputs": [
    {
     "output_type": "stream",
     "name": "stderr",
     "text": [
      "Device set to use cpu\n"
     ]
    }
   ]
  },
  {
   "cell_type": "code",
   "source": [
    "#Clasificaci\u00f3n del estado contextual de cada oraci\u00f3n\n",
    "\n",
    "estado_oraciones = {}\n",
    "oraciones_unicas = df_entidades[\"sentence\"].unique()\n",
    "\n",
    "for oracion in oraciones_unicas:\n",
    "    resultado = pipe_contexto(oracion)\n",
    "    etiquetas = list(set([r['entity_group'] for r in resultado]))\n",
    "    estado_oraciones[oracion] = clasificar_estado(etiquetas)"
   ],
   "metadata": {
    "id": "NquPwyNFZHKn"
   },
   "execution_count": null,
   "outputs": []
  },
  {
   "cell_type": "code",
   "source": [
    "#Asignar estado a cada fila del DataFrame\n",
    "\n",
    "df_entidades[\"Estado\"] = df_entidades[\"sentence\"].map(estado_oraciones)"
   ],
   "metadata": {
    "id": "kUIbSPS7ZfJ9"
   },
   "execution_count": null,
   "outputs": []
  },
  {
   "cell_type": "code",
   "source": [
    "#Seleccionar y renombrar columnas para la base final\n",
    "\n",
    "df_final = df_entidades[[\"patient_id\", \"sentence\", \"entity\", \"Estado\"]].copy()\n",
    "df_final.rename(columns={\"entity\": \"NER\"}, inplace=True)"
   ],
   "metadata": {
    "id": "1C78NxtrZgbP"
   },
   "execution_count": null,
   "outputs": []
  },
  {
   "cell_type": "code",
   "source": [
    "#Exportar CSV con resultados\n",
    "df_final.to_csv(\"base_datos_estructurada.csv\", index=False)\n",
    "\n",
    "print(\"Proceso completado. Archivo generado: base_datos_estructurada.csv\")\n",
    "df_final.head()"
   ],
   "metadata": {
    "colab": {
     "base_uri": "https://localhost:8080/",
     "height": 224
    },
    "id": "1KTYRGYIZh0f",
    "outputId": "1b061b17-08a5-4a1e-ea5f-0c78e055097c"
   },
   "execution_count": null,
   "outputs": [
    {
     "output_type": "stream",
     "name": "stdout",
     "text": [
      "Proceso completado. Archivo generado: base_datos_estructurada.csv\n"
     ]
    },
    {
     "output_type": "execute_result",
     "data": {
      "text/plain": [
       "  patient_id                                           sentence  \\\n",
       "0    1126737  Mujer de 44 a\u00f1os diagnosticada de Carcinoma du...   \n",
       "1    1126737  Mujer de 44 a\u00f1os diagnosticada de Carcinoma du...   \n",
       "2    1126737  Mujer de 44 a\u00f1os diagnosticada de Carcinoma du...   \n",
       "3    1126737  Mujer de 44 a\u00f1os diagnosticada de Carcinoma du...   \n",
       "4    1126737  Mujer de 44 a\u00f1os diagnosticada de Carcinoma du...   \n",
       "\n",
       "                                            NER    Estado  \n",
       "0                                       44 a\u00f1os  Afirmada  \n",
       "1                                 diagnosticada  Afirmada  \n",
       "2  Carcinoma ductal infiltrante de mama derecha  Afirmada  \n",
       "3                                       cT2N0M0  Afirmada  \n",
       "4                                   estadio IIA  Afirmada  "
      ],
      "text/html": [
       "\n",
       "  <div id=\"df-e32f8e50-a8c5-455c-ad12-fedeccacb30e\" class=\"colab-df-container\">\n",
       "    <div>\n",
       "<style scoped>\n",
       "    .dataframe tbody tr th:only-of-type {\n",
       "        vertical-align: middle;\n",
       "    }\n",
       "\n",
       "    .dataframe tbody tr th {\n",
       "        vertical-align: top;\n",
       "    }\n",
       "\n",
       "    .dataframe thead th {\n",
       "        text-align: right;\n",
       "    }\n",
       "</style>\n",
       "<table border=\"1\" class=\"dataframe\">\n",
       "  <thead>\n",
       "    <tr style=\"text-align: right;\">\n",
       "      <th></th>\n",
       "      <th>patient_id</th>\n",
       "      <th>sentence</th>\n",
       "      <th>NER</th>\n",
       "      <th>Estado</th>\n",
       "    </tr>\n",
       "  </thead>\n",
       "  <tbody>\n",
       "    <tr>\n",
       "      <th>0</th>\n",
       "      <td>1126737</td>\n",
       "      <td>Mujer de 44 a\u00f1os diagnosticada de Carcinoma du...</td>\n",
       "      <td>44 a\u00f1os</td>\n",
       "      <td>Afirmada</td>\n",
       "    </tr>\n",
       "    <tr>\n",
       "      <th>1</th>\n",
       "      <td>1126737</td>\n",
       "      <td>Mujer de 44 a\u00f1os diagnosticada de Carcinoma du...</td>\n",
       "      <td>diagnosticada</td>\n",
       "      <td>Afirmada</td>\n",
       "    </tr>\n",
       "    <tr>\n",
       "      <th>2</th>\n",
       "      <td>1126737</td>\n",
       "      <td>Mujer de 44 a\u00f1os diagnosticada de Carcinoma du...</td>\n",
       "      <td>Carcinoma ductal infiltrante de mama derecha</td>\n",
       "      <td>Afirmada</td>\n",
       "    </tr>\n",
       "    <tr>\n",
       "      <th>3</th>\n",
       "      <td>1126737</td>\n",
       "      <td>Mujer de 44 a\u00f1os diagnosticada de Carcinoma du...</td>\n",
       "      <td>cT2N0M0</td>\n",
       "      <td>Afirmada</td>\n",
       "    </tr>\n",
       "    <tr>\n",
       "      <th>4</th>\n",
       "      <td>1126737</td>\n",
       "      <td>Mujer de 44 a\u00f1os diagnosticada de Carcinoma du...</td>\n",
       "      <td>estadio IIA</td>\n",
       "      <td>Afirmada</td>\n",
       "    </tr>\n",
       "  </tbody>\n",
       "</table>\n",
       "</div>\n",
       "    <div class=\"colab-df-buttons\">\n",
       "\n",
       "  <div class=\"colab-df-container\">\n",
       "    <button class=\"colab-df-convert\" onclick=\"convertToInteractive('df-e32f8e50-a8c5-455c-ad12-fedeccacb30e')\"\n",
       "            title=\"Convert this dataframe to an interactive table.\"\n",
       "            style=\"display:none;\">\n",
       "\n",
       "  <svg xmlns=\"http://www.w3.org/2000/svg\" height=\"24px\" viewBox=\"0 -960 960 960\">\n",
       "    <path d=\"M120-120v-720h720v720H120Zm60-500h600v-160H180v160Zm220 220h160v-160H400v160Zm0 220h160v-160H400v160ZM180-400h160v-160H180v160Zm440 0h160v-160H620v160ZM180-180h160v-160H180v160Zm440 0h160v-160H620v160Z\"/>\n",
       "  </svg>\n",
       "    </button>\n",
       "\n",
       "  <style>\n",
       "    .colab-df-container {\n",
       "      display:flex;\n",
       "      gap: 12px;\n",
       "    }\n",
       "\n",
       "    .colab-df-convert {\n",
       "      background-color: #E8F0FE;\n",
       "      border: none;\n",
       "      border-radius: 50%;\n",
       "      cursor: pointer;\n",
       "      display: none;\n",
       "      fill: #1967D2;\n",
       "      height: 32px;\n",
       "      padding: 0 0 0 0;\n",
       "      width: 32px;\n",
       "    }\n",
       "\n",
       "    .colab-df-convert:hover {\n",
       "      background-color: #E2EBFA;\n",
       "      box-shadow: 0px 1px 2px rgba(60, 64, 67, 0.3), 0px 1px 3px 1px rgba(60, 64, 67, 0.15);\n",
       "      fill: #174EA6;\n",
       "    }\n",
       "\n",
       "    .colab-df-buttons div {\n",
       "      margin-bottom: 4px;\n",
       "    }\n",
       "\n",
       "    [theme=dark] .colab-df-convert {\n",
       "      background-color: #3B4455;\n",
       "      fill: #D2E3FC;\n",
       "    }\n",
       "\n",
       "    [theme=dark] .colab-df-convert:hover {\n",
       "      background-color: #434B5C;\n",
       "      box-shadow: 0px 1px 3px 1px rgba(0, 0, 0, 0.15);\n",
       "      filter: drop-shadow(0px 1px 2px rgba(0, 0, 0, 0.3));\n",
       "      fill: #FFFFFF;\n",
       "    }\n",
       "  </style>\n",
       "\n",
       "    <script>\n",
       "      const buttonEl =\n",
       "        document.querySelector('#df-e32f8e50-a8c5-455c-ad12-fedeccacb30e button.colab-df-convert');\n",
       "      buttonEl.style.display =\n",
       "        google.colab.kernel.accessAllowed ? 'block' : 'none';\n",
       "\n",
       "      async function convertToInteractive(key) {\n",
       "        const element = document.querySelector('#df-e32f8e50-a8c5-455c-ad12-fedeccacb30e');\n",
       "        const dataTable =\n",
       "          await google.colab.kernel.invokeFunction('convertToInteractive',\n",
       "                                                    [key], {});\n",
       "        if (!dataTable) return;\n",
       "\n",
       "        const docLinkHtml = 'Like what you see? Visit the ' +\n",
       "          '<a target=\"_blank\" href=https://colab.research.google.com/notebooks/data_table.ipynb>data table notebook</a>'\n",
       "          + ' to learn more about interactive tables.';\n",
       "        element.innerHTML = '';\n",
       "        dataTable['output_type'] = 'display_data';\n",
       "        await google.colab.output.renderOutput(dataTable, element);\n",
       "        const docLink = document.createElement('div');\n",
       "        docLink.innerHTML = docLinkHtml;\n",
       "        element.appendChild(docLink);\n",
       "      }\n",
       "    </script>\n",
       "  </div>\n",
       "\n",
       "\n",
       "    <div id=\"df-c7c2a377-1318-4fa6-ada0-4f7ab1949961\">\n",
       "      <button class=\"colab-df-quickchart\" onclick=\"quickchart('df-c7c2a377-1318-4fa6-ada0-4f7ab1949961')\"\n",
       "                title=\"Suggest charts\"\n",
       "                style=\"display:none;\">\n",
       "\n",
       "<svg xmlns=\"http://www.w3.org/2000/svg\" height=\"24px\"viewBox=\"0 0 24 24\"\n",
       "     width=\"24px\">\n",
       "    <g>\n",
       "        <path d=\"M19 3H5c-1.1 0-2 .9-2 2v14c0 1.1.9 2 2 2h14c1.1 0 2-.9 2-2V5c0-1.1-.9-2-2-2zM9 17H7v-7h2v7zm4 0h-2V7h2v10zm4 0h-2v-4h2v4z\"/>\n",
       "    </g>\n",
       "</svg>\n",
       "      </button>\n",
       "\n",
       "<style>\n",
       "  .colab-df-quickchart {\n",
       "      --bg-color: #E8F0FE;\n",
       "      --fill-color: #1967D2;\n",
       "      --hover-bg-color: #E2EBFA;\n",
       "      --hover-fill-color: #174EA6;\n",
       "      --disabled-fill-color: #AAA;\n",
       "      --disabled-bg-color: #DDD;\n",
       "  }\n",
       "\n",
       "  [theme=dark] .colab-df-quickchart {\n",
       "      --bg-color: #3B4455;\n",
       "      --fill-color: #D2E3FC;\n",
       "      --hover-bg-color: #434B5C;\n",
       "      --hover-fill-color: #FFFFFF;\n",
       "      --disabled-bg-color: #3B4455;\n",
       "      --disabled-fill-color: #666;\n",
       "  }\n",
       "\n",
       "  .colab-df-quickchart {\n",
       "    background-color: var(--bg-color);\n",
       "    border: none;\n",
       "    border-radius: 50%;\n",
       "    cursor: pointer;\n",
       "    display: none;\n",
       "    fill: var(--fill-color);\n",
       "    height: 32px;\n",
       "    padding: 0;\n",
       "    width: 32px;\n",
       "  }\n",
       "\n",
       "  .colab-df-quickchart:hover {\n",
       "    background-color: var(--hover-bg-color);\n",
       "    box-shadow: 0 1px 2px rgba(60, 64, 67, 0.3), 0 1px 3px 1px rgba(60, 64, 67, 0.15);\n",
       "    fill: var(--button-hover-fill-color);\n",
       "  }\n",
       "\n",
       "  .colab-df-quickchart-complete:disabled,\n",
       "  .colab-df-quickchart-complete:disabled:hover {\n",
       "    background-color: var(--disabled-bg-color);\n",
       "    fill: var(--disabled-fill-color);\n",
       "    box-shadow: none;\n",
       "  }\n",
       "\n",
       "  .colab-df-spinner {\n",
       "    border: 2px solid var(--fill-color);\n",
       "    border-color: transparent;\n",
       "    border-bottom-color: var(--fill-color);\n",
       "    animation:\n",
       "      spin 1s steps(1) infinite;\n",
       "  }\n",
       "\n",
       "  @keyframes spin {\n",
       "    0% {\n",
       "      border-color: transparent;\n",
       "      border-bottom-color: var(--fill-color);\n",
       "      border-left-color: var(--fill-color);\n",
       "    }\n",
       "    20% {\n",
       "      border-color: transparent;\n",
       "      border-left-color: var(--fill-color);\n",
       "      border-top-color: var(--fill-color);\n",
       "    }\n",
       "    30% {\n",
       "      border-color: transparent;\n",
       "      border-left-color: var(--fill-color);\n",
       "      border-top-color: var(--fill-color);\n",
       "      border-right-color: var(--fill-color);\n",
       "    }\n",
       "    40% {\n",
       "      border-color: transparent;\n",
       "      border-right-color: var(--fill-color);\n",
       "      border-top-color: var(--fill-color);\n",
       "    }\n",
       "    60% {\n",
       "      border-color: transparent;\n",
       "      border-right-color: var(--fill-color);\n",
       "    }\n",
       "    80% {\n",
       "      border-color: transparent;\n",
       "      border-right-color: var(--fill-color);\n",
       "      border-bottom-color: var(--fill-color);\n",
       "    }\n",
       "    90% {\n",
       "      border-color: transparent;\n",
       "      border-bottom-color: var(--fill-color);\n",
       "    }\n",
       "  }\n",
       "</style>\n",
       "\n",
       "      <script>\n",
       "        async function quickchart(key) {\n",
       "          const quickchartButtonEl =\n",
       "            document.querySelector('#' + key + ' button');\n",
       "          quickchartButtonEl.disabled = true;  // To prevent multiple clicks.\n",
       "          quickchartButtonEl.classList.add('colab-df-spinner');\n",
       "          try {\n",
       "            const charts = await google.colab.kernel.invokeFunction(\n",
       "                'suggestCharts', [key], {});\n",
       "          } catch (error) {\n",
       "            console.error('Error during call to suggestCharts:', error);\n",
       "          }\n",
       "          quickchartButtonEl.classList.remove('colab-df-spinner');\n",
       "          quickchartButtonEl.classList.add('colab-df-quickchart-complete');\n",
       "        }\n",
       "        (() => {\n",
       "          let quickchartButtonEl =\n",
       "            document.querySelector('#df-c7c2a377-1318-4fa6-ada0-4f7ab1949961 button');\n",
       "          quickchartButtonEl.style.display =\n",
       "            google.colab.kernel.accessAllowed ? 'block' : 'none';\n",
       "        })();\n",
       "      </script>\n",
       "    </div>\n",
       "\n",
       "    </div>\n",
       "  </div>\n"
      ],
      "application/vnd.google.colaboratory.intrinsic+json": {
       "type": "dataframe",
       "variable_name": "df_final",
       "summary": "{\n  \"name\": \"df_final\",\n  \"rows\": 3456,\n  \"fields\": [\n    {\n      \"column\": \"patient_id\",\n      \"properties\": {\n        \"dtype\": \"category\",\n        \"num_unique_values\": 106,\n        \"samples\": [\n          \"2060668\",\n          \"5514\",\n          \"912866\"\n        ],\n        \"semantic_type\": \"\",\n        \"description\": \"\"\n      }\n    },\n    {\n      \"column\": \"sentence\",\n      \"properties\": {\n        \"dtype\": \"category\",\n        \"num_unique_values\": 967,\n        \"samples\": [\n          \"Se observa invasi\\u00f3n perineural.-Bordes quir\\u00fargicos definitivos: LIBRES DE AFECTACI\\u00d3N: borde quir\\u00fargico superficial (no cubierto por piel, CII) afecto en la pieza de mastectom\\u00eda (borde libre en pieza de ampliaci\\u00f3n: B13-20160).\",\n          \"Acude en enero al Hospital Ruber y le realizan mamograf\\u00eda, en la que se objetiva una lesi\\u00f3n sospechosa de malignidad.\",\n          \"Tratado con QT neoadyuvante ( AC x 4 + Taxotere x 4) + mastectom\\u00eda radical con reconstrucci\\u00f3n con pr\\u00f3tesis + linfadenectom\\u00eda en Octubre 2010.\"\n        ],\n        \"semantic_type\": \"\",\n        \"description\": \"\"\n      }\n    },\n    {\n      \"column\": \"NER\",\n      \"properties\": {\n        \"dtype\": \"category\",\n        \"num_unique_values\": 1704,\n        \"samples\": [\n          \"Ki67 positivo\",\n          \"TAC\",\n          \"19/07\"\n        ],\n        \"semantic_type\": \"\",\n        \"description\": \"\"\n      }\n    },\n    {\n      \"column\": \"Estado\",\n      \"properties\": {\n        \"dtype\": \"category\",\n        \"num_unique_values\": 3,\n        \"samples\": [\n          \"Afirmada\",\n          \"Sospechosa\",\n          \"Negada\"\n        ],\n        \"semantic_type\": \"\",\n        \"description\": \"\"\n      }\n    }\n  ]\n}"
      }
     },
     "metadata": {},
     "execution_count": 12
    }
   ]
  },
  {
   "cell_type": "code",
   "source": [
    "#Guardar el DataFrame final en un archivo CSV\n",
    "df_entidades.to_csv(\"base_datos_final.csv\", index=False)\n",
    "\n",
    "files.download(\"base_datos_final.csv\")"
   ],
   "metadata": {
    "colab": {
     "base_uri": "https://localhost:8080/",
     "height": 17
    },
    "id": "kjGQsu05eKAm",
    "outputId": "cb531f56-60de-421e-ccc4-b879391b9b11"
   },
   "execution_count": null,
   "outputs": [
    {
     "output_type": "display_data",
     "data": {
      "text/plain": [
       "<IPython.core.display.Javascript object>"
      ],
      "application/javascript": [
       "\n",
       "    async function download(id, filename, size) {\n",
       "      if (!google.colab.kernel.accessAllowed) {\n",
       "        return;\n",
       "      }\n",
       "      const div = document.createElement('div');\n",
       "      const label = document.createElement('label');\n",
       "      label.textContent = `Downloading \"${filename}\": `;\n",
       "      div.appendChild(label);\n",
       "      const progress = document.createElement('progress');\n",
       "      progress.max = size;\n",
       "      div.appendChild(progress);\n",
       "      document.body.appendChild(div);\n",
       "\n",
       "      const buffers = [];\n",
       "      let downloaded = 0;\n",
       "\n",
       "      const channel = await google.colab.kernel.comms.open(id);\n",
       "      // Send a message to notify the kernel that we're ready.\n",
       "      channel.send({})\n",
       "\n",
       "      for await (const message of channel.messages) {\n",
       "        // Send a message to notify the kernel that we're ready.\n",
       "        channel.send({})\n",
       "        if (message.buffers) {\n",
       "          for (const buffer of message.buffers) {\n",
       "            buffers.push(buffer);\n",
       "            downloaded += buffer.byteLength;\n",
       "            progress.value = downloaded;\n",
       "          }\n",
       "        }\n",
       "      }\n",
       "      const blob = new Blob(buffers, {type: 'application/binary'});\n",
       "      const a = document.createElement('a');\n",
       "      a.href = window.URL.createObjectURL(blob);\n",
       "      a.download = filename;\n",
       "      div.appendChild(a);\n",
       "      a.click();\n",
       "      div.remove();\n",
       "    }\n",
       "  "
      ]
     },
     "metadata": {}
    },
    {
     "output_type": "display_data",
     "data": {
      "text/plain": [
       "<IPython.core.display.Javascript object>"
      ],
      "application/javascript": [
       "download(\"download_5a55170b-598d-4b9a-8d73-6febc10b703c\", \"base_datos_final.csv\", 518839)"
      ]
     },
     "metadata": {}
    }
   ]
  }
 ]
}